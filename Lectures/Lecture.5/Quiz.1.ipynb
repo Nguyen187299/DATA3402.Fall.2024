{
 "cells": [
  {
   "cell_type": "code",
   "execution_count": 6,
   "id": "0c19e4b7-78ed-401e-941f-cb30204d20ca",
   "metadata": {},
   "outputs": [
    {
     "ename": "SyntaxError",
     "evalue": "invalid syntax (3966027944.py, line 3)",
     "output_type": "error",
     "traceback": [
      "\u001b[0;36m  Cell \u001b[0;32mIn[6], line 3\u001b[0;36m\u001b[0m\n\u001b[0;31m    return a0=[a]*max_len else en(a)!=max_len\u001b[0m\n\u001b[0m    ^\u001b[0m\n\u001b[0;31mSyntaxError\u001b[0m\u001b[0;31m:\u001b[0m invalid syntax\n"
     ]
    }
   ],
   "source": [
    "def create_new_args_0(args):\n",
    "    max_len = max(map(len for a in args if not isinstance(a,list)\n",
    "    return a0=[a]*max_len else en(a)!=max_len for a in args"
   ]
  },
  {
   "cell_type": "code",
   "execution_count": null,
   "id": "f4f4dbc3-f2be-47db-bc34-7cb568ea3a3e",
   "metadata": {},
   "outputs": [],
   "source": []
  }
 ],
 "metadata": {
  "kernelspec": {
   "display_name": "Python 3 (ipykernel)",
   "language": "python",
   "name": "python3"
  },
  "language_info": {
   "codemirror_mode": {
    "name": "ipython",
    "version": 3
   },
   "file_extension": ".py",
   "mimetype": "text/x-python",
   "name": "python",
   "nbconvert_exporter": "python",
   "pygments_lexer": "ipython3",
   "version": "3.9.6"
  }
 },
 "nbformat": 4,
 "nbformat_minor": 5
}
