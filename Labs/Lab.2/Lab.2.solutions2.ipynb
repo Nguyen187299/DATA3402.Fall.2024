{
 "cells": [
  {
   "cell_type": "markdown",
   "metadata": {},
   "source": [
    "## Lab 2- Tic Tac Toe\n",
    "\n",
    "In this lab your will build a n x n Tic Tac Toe game. As you do the exercises, make sure your solutions work for any size Tic Tac Toe game. "
   ]
  },
  {
   "cell_type": "markdown",
   "metadata": {},
   "source": [
    "*Exercise 1:* Write a function that creates an n by n matrix (of list of lists) which will represent the state of a Tie Tac Toe game. Let 0, 1, and 2 represent empty, \"X\", and \"O\", respectively.\n"
   ]
  },
  {
   "cell_type": "code",
   "execution_count": 3,
   "metadata": {},
   "outputs": [],
   "source": [
    "# Write you solution here\n",
    "def create_board(n):\n",
    "    empty = 0\n",
    "    X = 1\n",
    "    O = 2\n",
    "\n",
    "    board=list()\n",
    "    for i in range(n):\n",
    "        row=list()\n",
    "        for j in range(n):\n",
    "            row.append(empty)       \n",
    "        board.append(row)\n",
    "\n",
    "    for row in board:\n",
    "        print(row)"
   ]
  },
  {
   "cell_type": "code",
   "execution_count": 4,
   "metadata": {},
   "outputs": [
    {
     "name": "stdout",
     "output_type": "stream",
     "text": [
      "[0, 0, 0]\n",
      "[0, 0, 0]\n",
      "[0, 0, 0]\n"
     ]
    }
   ],
   "source": [
    "# Test your solution here\n",
    "create_board(3)"
   ]
  },
  {
   "cell_type": "markdown",
   "metadata": {},
   "source": [
    "*Exercise 2:* Write a function that takes 2 integers `n` and `m` as input and draws a `n` by `m` game board. For example the following is a 3x3 board:\n",
    "```\n",
    "   --- --- --- \n",
    "  |   |   |   | \n",
    "   --- --- ---  \n",
    "  |   |   |   | \n",
    "   --- --- ---  \n",
    "  |   |   |   | \n",
    "   --- --- --- \n",
    "   ```"
   ]
  },
  {
   "cell_type": "code",
   "execution_count": 17,
   "metadata": {},
   "outputs": [],
   "source": [
    "# Write you solution here\n",
    "def draw_game_board():\n",
    "\n",
    "    empty = 0\n",
    "    n=int(input(\"Please enter a number\", ))\n",
    "    m=int(input(\"Please enter another number\", ))\n",
    "\n",
    "    board=list()\n",
    "    for i in range(n):\n",
    "        row=list()\n",
    "        for j in range(m):\n",
    "            row.append(empty)       \n",
    "        board.append(row)\n",
    "\n",
    "    horizontal_line = (' ' + '---') * n\n",
    "    vertical_line = ('|' + '   ' ) * m\n",
    "    \n",
    "    for i in range(n):\n",
    "        print(horizontal_line)\n",
    "        print(vertical_line)\n",
    "    print(horizontal_line)\n",
    "\n",
    "    for row in board:\n",
    "        print(row)"
   ]
  },
  {
   "cell_type": "code",
   "execution_count": 19,
   "metadata": {},
   "outputs": [
    {
     "name": "stdin",
     "output_type": "stream",
     "text": [
      "Please enter a number 4\n",
      "Please enter another number 5\n"
     ]
    },
    {
     "name": "stdout",
     "output_type": "stream",
     "text": [
      " --- --- --- ---\n",
      "|   |   |   |   |   \n",
      " --- --- --- ---\n",
      "|   |   |   |   |   \n",
      " --- --- --- ---\n",
      "|   |   |   |   |   \n",
      " --- --- --- ---\n",
      "|   |   |   |   |   \n",
      " --- --- --- ---\n",
      "[0, 0, 0, 0, 0]\n",
      "[0, 0, 0, 0, 0]\n",
      "[0, 0, 0, 0, 0]\n",
      "[0, 0, 0, 0, 0]\n"
     ]
    }
   ],
   "source": [
    "# Test your solution here\n",
    "draw_game_board()"
   ]
  },
  {
   "cell_type": "markdown",
   "metadata": {},
   "source": [
    "*Exercise 3:* Modify exercise 2, so that it takes a matrix of the form from exercise 1 and draws a tic-tac-tie board with \"X\"s and \"O\"s.  "
   ]
  },
  {
   "cell_type": "code",
   "execution_count": 26,
   "metadata": {},
   "outputs": [],
   "source": [
    "# Write you solution here\n",
    "def draw_board(board):\n",
    "\n",
    "    empty = 0\n",
    "    X = 1\n",
    "    O = 2\n",
    "\n",
    "    dictionary = {0:\" \" , 1:\"X\" , 2:\"O\"}\n",
    "\n",
    "    n=len(board)\n",
    "    m=len(board[0])\n",
    "\n",
    "    horizontal_line = (' ' + '---') * n\n",
    "\n",
    "    for i in range(n):\n",
    "        print(horizontal_line)\n",
    "        if i > 0:\n",
    "            print(horizontal_line)\n",
    "        row = '|'\n",
    "        for j in range(m):\n",
    "            row += ' ' + dictionary[board[i][j]] + ' |'\n",
    "        print(row)\n",
    "    print(horizontal_line)"
   ]
  },
  {
   "cell_type": "code",
   "execution_count": 27,
   "metadata": {},
   "outputs": [
    {
     "name": "stdout",
     "output_type": "stream",
     "text": [
      " --- --- ---\n",
      "| X | O |   |\n",
      " --- --- ---\n",
      " --- --- ---\n",
      "|   | O | X |\n",
      " --- --- ---\n",
      " --- --- ---\n",
      "|   | X | O |\n",
      " --- --- ---\n"
     ]
    }
   ],
   "source": [
    "# Test your solution here\n",
    "example = [\n",
    "    [1,2,0],\n",
    "    [0,2,1],\n",
    "    [0,1,2]]\n",
    "\n",
    "draw_board(example)"
   ]
  },
  {
   "cell_type": "markdown",
   "metadata": {},
   "source": [
    "*Exercise 4:* Write a function that takes a `n` by `n` matrix representing a tic-tac-toe game, and returns -1, 0, 1, or 2 indicating the game is incomplete, the game is a draw, player 1 has won, or player 2 has one, respectively. Here are some example inputs you can use to test your code:"
   ]
  },
  {
   "cell_type": "code",
   "execution_count": 55,
   "metadata": {},
   "outputs": [],
   "source": [
    "# Write you solution here\n",
    "def all_same(l):\n",
    "    val= l[0]\n",
    "    for item in l[1:]:\n",
    "        if not item == val:\n",
    "            return False\n",
    "    return val != 0\n",
    "\n",
    "def test_won_rows(data):\n",
    "    \n",
    "    for row in data:\n",
    "        if all_same(row):\n",
    "            return row[0]\n",
    "    return 0\n",
    "\n",
    "def transpose(data):\n",
    "    empty=0\n",
    "    columns=[[empty]*len(data) for i in range(len(data[0]))]\n",
    "\n",
    "    for i,row in enumerate(data):\n",
    "        for j,val in enumerate(row):\n",
    "            columns[j][i]=val\n",
    "\n",
    "    return columns\n",
    "\n",
    "def check_for_win(board):\n",
    "    \n",
    "    n = len(board)\n",
    "\n",
    "    row_win = test_won_rows(board)\n",
    "    if row_win:\n",
    "        return row_win\n",
    "\n",
    "    check_column = transpose(board)\n",
    "    column_win = test_won_rows(check_column)\n",
    "    if column_win:\n",
    "        return column_win\n",
    "    \n",
    "    diagonal_1 = [board[i][i] for i in range(n)]\n",
    "    diagonal_2 = [board[i][n - 1 - i] for i in range(n)]\n",
    "    \n",
    "    if all_same(diagonal_1):\n",
    "        return diagonal_1[0]\n",
    "    if all_same(diagonal_2):\n",
    "        return diagonal_2[0]\n",
    "\n",
    "    if any(0 in row for row in board):\n",
    "        return -1\n",
    "    \n",
    "    return 0"
   ]
  },
  {
   "cell_type": "code",
   "execution_count": 56,
   "metadata": {},
   "outputs": [
    {
     "name": "stdout",
     "output_type": "stream",
     "text": [
      "2\n"
     ]
    }
   ],
   "source": [
    "# Test your solution here\n",
    "print(check_for_win(winner_is_2))"
   ]
  },
  {
   "cell_type": "code",
   "execution_count": 49,
   "metadata": {},
   "outputs": [],
   "source": [
    "winner_is_2 = [[2, 2, 0],\n",
    "\t[2, 1, 0],\n",
    "\t[2, 1, 1]]\n",
    "\n",
    "winner_is_1 = [[1, 2, 0],\n",
    "\t[2, 1, 0],\n",
    "\t[2, 1, 1]]\n",
    "\n",
    "winner_is_also_1 = [[0, 1, 0],\n",
    "\t[2, 1, 0],\n",
    "\t[2, 1, 1]]\n",
    "\n",
    "no_winner = [[1, 2, 0],\n",
    "\t[2, 1, 0],\n",
    "\t[2, 1, 2]]\n",
    "\n",
    "also_no_winner = [[1, 2, 0],\n",
    "\t[2, 1, 0],\n",
    "\t[2, 1, 0]]"
   ]
  },
  {
   "cell_type": "markdown",
   "metadata": {},
   "source": [
    "*Exercise 5:* Write a function that takes a game board, player number, and `(x,y)` coordinates and places \"X\" or \"O\" in the correct location of the game board. Make sure that you only allow filling previously empty locations. Return `True` or `False` to indicate successful placement of \"X\" or \"O\"."
   ]
  },
  {
   "cell_type": "code",
   "execution_count": 24,
   "metadata": {},
   "outputs": [],
   "source": [
    "# Write you solution here\n",
    "\n",
    "def add_piece(board, player_number, x, y):\n",
    "    empty=0\n",
    "    player_1=1\n",
    "    player_2=2\n",
    "\n",
    "    player_symbol = {1:'X', 2:'O'}\n",
    "    \n",
    "    if not (0 <= x < len(board)) or not (0 <= y < len(board[0])):\n",
    "        return False\n",
    "\n",
    "    if board[x][y] != empty:\n",
    "        return False\n",
    "\n",
    "    board[x][y] = player_number\n",
    "\n",
    "    return True\n"
   ]
  },
  {
   "cell_type": "code",
   "execution_count": 25,
   "metadata": {},
   "outputs": [
    {
     "name": "stdout",
     "output_type": "stream",
     "text": [
      "True\n",
      "[[0, 0, 0], [0, 1, 0], [0, 0, 0]]\n",
      "False\n",
      "True\n",
      "[[0, 0, 0], [0, 1, 0], [0, 1, 0]]\n"
     ]
    }
   ],
   "source": [
    "# Test your solution here\n",
    "board = [\n",
    "    [0, 0, 0],\n",
    "    [0, 0, 0],\n",
    "    [0, 0, 0]\n",
    "]\n",
    "\n",
    "print(add_piece(board, 1, 1, 1))\n",
    "print(board)\n",
    "print(add_piece(board, 2, 1, 1))\n",
    "print(add_piece(board, 1, 2, 1))\n",
    "print(board)"
   ]
  },
  {
   "cell_type": "markdown",
   "metadata": {},
   "source": [
    "*Exercise 6:* Modify Exercise 4 to show column and row labels so that players can specify location using \"A2\" or \"C1\"."
   ]
  },
  {
   "cell_type": "code",
   "execution_count": 28,
   "metadata": {},
   "outputs": [],
   "source": [
    "# Write you solution here\n",
    "size=3\n",
    "\n",
    "row_names=list(\"ABCDEFGHIJKLMNOPQRSTUVWXYZ\")\n",
    "row_map=dict(zip(row_names,range(size)))\n",
    "\n",
    "column_names=list(map(str,range(1,size+1)))\n",
    "column_map=dict(zip(column_names,range(size)))\n",
    "\n",
    "dictionary={0:\" \" , 1:\"X\" , 2:\"O\"}\n",
    "\n",
    "def draw_board(board):\n",
    "    print(\" \", end=\" \")\n",
    "    for j in range(size):\n",
    "        print(column_names[j], end=\" \")\n",
    "    print()\n",
    "    \n",
    "    for i in range(size):\n",
    "        print(row_names[i], end=\" \")\n",
    "        for j in range(size):\n",
    "            print(dictionary[board[i][j]], end=\" \")\n",
    "        print()\n"
   ]
  },
  {
   "cell_type": "code",
   "execution_count": 29,
   "metadata": {},
   "outputs": [
    {
     "name": "stdout",
     "output_type": "stream",
     "text": [
      "  1 2 3 \n",
      "A   X   \n",
      "B     O \n",
      "C X O   \n"
     ]
    }
   ],
   "source": [
    "# Test your solution here\n",
    "board = [\n",
    "    [0, 1, 0],\n",
    "    [0, 0, 2],\n",
    "    [1, 2, 0]]\n",
    "draw_board(board)"
   ]
  },
  {
   "cell_type": "markdown",
   "metadata": {},
   "source": [
    "*Exercise 7:* Write a function that takes a board, player number, and location specified as in exercise 6 and then calls exercise 5 to correctly modify the board.  "
   ]
  },
  {
   "cell_type": "code",
   "execution_count": 9,
   "metadata": {},
   "outputs": [],
   "source": [
    "# Write you solution here\n",
    "size = 3\n",
    "\n",
    "row_names = list(\"ABCDEFGHIJKLMNOPQRSTUVWXYZ\")[:size]\n",
    "column_names = list(map(str, range(1, size + 1)))\n",
    "\n",
    "dictionary = {0: \" \", 1: \"X\", 2: \"O\"}\n",
    "\n",
    "def draw_board(board):\n",
    "\n",
    "    def print_horizontal_line():\n",
    "        print(\" \" + \"---\" * size + \"---\")\n",
    "    \n",
    "    print(\" \", end=\" \")\n",
    "    for j in range(size):\n",
    "        print(f\" {column_names[j]} \", end=\" \")\n",
    "    print()\n",
    "    \n",
    "    print_horizontal_line()\n",
    "    \n",
    "    for i in range(size):\n",
    "        print(row_names[i], end=\" \")\n",
    "        for j in range(size):\n",
    "            print(f\" {dictionary[board[i][j]]} \", end=\"|\")\n",
    "        print()\n",
    "        print_horizontal_line()\n",
    "\n",
    "def add_piece(board, player_number, x, y):\n",
    "\n",
    "    empty = 0\n",
    "    \n",
    "    if not (0 <= x < len(board)) or not (0 <= y < len(board[0])):\n",
    "        return False\n",
    "\n",
    "    if board[x][y] != empty:\n",
    "        return False\n",
    "\n",
    "    board[x][y] = player_number\n",
    "    return True\n",
    "\n",
    "def place_mark(board, player_number, coordinates):\n",
    "\n",
    "    row, column = coordinates\n",
    "\n",
    "    success = add_piece(board, player_number, row, column)\n",
    "    \n",
    "    if not success:\n",
    "        print(\"Failed to place mark\")\n",
    "    \n",
    "    return success"
   ]
  },
  {
   "cell_type": "code",
   "execution_count": 10,
   "metadata": {},
   "outputs": [
    {
     "name": "stdout",
     "output_type": "stream",
     "text": [
      "   1   2   3  \n",
      " ------------\n",
      "A    |   |   |\n",
      " ------------\n",
      "B    |   |   |\n",
      " ------------\n",
      "C    |   |   |\n",
      " ------------\n",
      "True\n",
      "True\n",
      "True\n",
      "   1   2   3  \n",
      " ------------\n",
      "A    | X |   |\n",
      " ------------\n",
      "B  O |   |   |\n",
      " ------------\n",
      "C    |   | X |\n",
      " ------------\n",
      "Failed to place mark\n",
      "False\n",
      "Failed to place mark\n",
      "False\n",
      "   1   2   3  \n",
      " ------------\n",
      "A    | X |   |\n",
      " ------------\n",
      "B  O |   |   |\n",
      " ------------\n",
      "C    |   | X |\n",
      " ------------\n"
     ]
    }
   ],
   "source": [
    "# Test your solution here\n",
    "board = [[0] * size for _ in range(size)]\n",
    "\n",
    "draw_board(board)\n",
    "\n",
    "print(place_mark(board, 1, (0, 1)))\n",
    "print(place_mark(board, 2, (1, 0))) \n",
    "print(place_mark(board, 1, (2, 2))) \n",
    "\n",
    "draw_board(board)\n",
    "\n",
    "print(place_mark(board, 2, (0, 1)))\n",
    "print(place_mark(board, 1, (3, 3)))\n",
    "\n",
    "draw_board(board)"
   ]
  },
  {
   "cell_type": "markdown",
   "metadata": {},
   "source": [
    "*Exercise 8:* Write a function is called with a board and player number, takes input from the player using python's `input`, and modifies the board using your function from exercise 7. Note that you should keep asking for input until you have gotten a valid input that results in a valid move."
   ]
  },
  {
   "cell_type": "code",
   "execution_count": 9,
   "metadata": {},
   "outputs": [],
   "source": [
    "# Write you solution here\n",
    "size = 3\n",
    "\n",
    "row_names = list(\"ABCDEFGHIJKLMNOPQRSTUVWXYZ\")[:size]\n",
    "column_names = list(map(str, range(1, size + 1)))\n",
    "\n",
    "dictionary = {0: \" \", 1: \"X\", 2: \"O\"}\n",
    "\n",
    "def draw_board(board):\n",
    "\n",
    "    def print_horizontal_line():\n",
    "        print(\" \" + \"---\" * size + \"---\")\n",
    "    \n",
    "    print(\" \", end=\" \")\n",
    "    for j in range(size):\n",
    "        print(f\" {column_names[j]} \", end=\" \")\n",
    "    print()\n",
    "    \n",
    "    print_horizontal_line()\n",
    "    \n",
    "    for i in range(size):\n",
    "        print(row_names[i], end=\" \")\n",
    "        for j in range(size):\n",
    "            print(f\" {dictionary[board[i][j]]} \", end=\"|\")\n",
    "        print()\n",
    "        print_horizontal_line()\n",
    "\n",
    "def add_piece(board, player_number, x, y):\n",
    "\n",
    "    empty = 0\n",
    "    \n",
    "    if not (0 <= x < len(board)) or not (0 <= y < len(board[0])):\n",
    "        return False\n",
    "\n",
    "    if board[x][y] != empty:\n",
    "        return False\n",
    "\n",
    "    board[x][y] = player_number\n",
    "    return True\n",
    "\n",
    "def place_mark(board, player_number, coordinates):\n",
    "\n",
    "    row, column = coordinates\n",
    "\n",
    "    success = add_piece(board, player_number, row, column)\n",
    "    \n",
    "    if not success:\n",
    "        print(\"Failed to place mark\")\n",
    "    \n",
    "    return success\n",
    "\n",
    "def make_move(board, player_number):\n",
    "    while True:\n",
    "        location = input(f\"Player {player_number}, please enter a location\")\n",
    "\n",
    "        if place_mark(board, player_number, coordinates):\n",
    "            return board\n",
    "        else:\n",
    "            print(\"Invalid Move. Please Try Again\")\n"
   ]
  },
  {
   "cell_type": "code",
   "execution_count": 11,
   "metadata": {},
   "outputs": [
    {
     "name": "stdin",
     "output_type": "stream",
     "text": [
      "Enter your move (e.g., A1, B2):  A2\n"
     ]
    },
    {
     "name": "stdout",
     "output_type": "stream",
     "text": [
      "Failed to place mark\n",
      "Move invalid or cell already occupied. Please try again.\n"
     ]
    },
    {
     "name": "stdin",
     "output_type": "stream",
     "text": [
      "Enter your move (e.g., A1, B2):  A3\n"
     ]
    },
    {
     "name": "stdout",
     "output_type": "stream",
     "text": [
      "Move accepted.\n",
      "[0, 0, 0]\n",
      "[1, 0, 0]\n",
      "[1, 0, 0]\n"
     ]
    }
   ],
   "source": [
    "# Test your solution here\n",
    "play_turn(board, 1)\n",
    "for row in board:\n",
    "    print(row)"
   ]
  },
  {
   "cell_type": "markdown",
   "metadata": {},
   "source": [
    "*Exercise 9:* Use all of the previous exercises to implement a full tic-tac-toe game, where an appropriate board is drawn, 2 players are repeatedly asked for a location coordinates of where they wish to place a mark, and the game status is checked until a player wins or a draw occurs."
   ]
  },
  {
   "cell_type": "code",
   "execution_count": null,
   "metadata": {},
   "outputs": [
    {
     "name": "stdout",
     "output_type": "stream",
     "text": [
      "   1   2   3  \n",
      " ------------\n",
      "A    |   |   |\n",
      " ------------\n",
      "B    |   |   |\n",
      " ------------\n",
      "C    |   |   |\n",
      " ------------\n"
     ]
    },
    {
     "name": "stdin",
     "output_type": "stream",
     "text": [
      "Player 1, enter your move (e.g., A1, B2):  A2\n"
     ]
    },
    {
     "name": "stdout",
     "output_type": "stream",
     "text": [
      "Move accepted.\n",
      "   1   2   3  \n",
      " ------------\n",
      "A    |   |   |\n",
      " ------------\n",
      "B  X |   |   |\n",
      " ------------\n",
      "C    |   |   |\n",
      " ------------\n"
     ]
    },
    {
     "name": "stdin",
     "output_type": "stream",
     "text": [
      "Player 2, enter your move (e.g., A1, B2):  B3\n"
     ]
    },
    {
     "name": "stdout",
     "output_type": "stream",
     "text": [
      "Move accepted.\n",
      "   1   2   3  \n",
      " ------------\n",
      "A    |   |   |\n",
      " ------------\n",
      "B  X |   |   |\n",
      " ------------\n",
      "C    | O |   |\n",
      " ------------\n"
     ]
    }
   ],
   "source": [
    "# Write you solution here\n",
    "size = 3\n",
    "\n",
    "row_names = list(\"ABCDEFGHIJKLMNOPQRSTUVWXYZ\")[:size]\n",
    "column_names = list(map(str, range(1, size + 1)))\n",
    "\n",
    "dictionary = {0: \" \", 1: \"X\", 2: \"O\"}\n",
    "\n",
    "def create_board(n):\n",
    "    return [[0] * n for _ in range(n)]\n",
    "\n",
    "def draw_board(board):\n",
    "    def print_horizontal_line():\n",
    "        print(\" \" + \"---\" * size + \"---\")\n",
    "    \n",
    "    print(\" \", end=\" \")\n",
    "    for j in range(size):\n",
    "        print(f\" {column_names[j]} \", end=\" \")\n",
    "    print()\n",
    "    \n",
    "    print_horizontal_line()\n",
    "    \n",
    "    for i in range(size):\n",
    "        print(row_names[i], end=\" \")\n",
    "        for j in range(size):\n",
    "            print(f\" {dictionary[board[i][j]]} \", end=\"|\")\n",
    "        print()\n",
    "        print_horizontal_line()\n",
    "\n",
    "def all_same(l):\n",
    "    val = l[0]\n",
    "    return all(item == val for item in l) and val != 0\n",
    "\n",
    "def test_won_rows(data):\n",
    "    for row in data:\n",
    "        if all_same(row):\n",
    "            return row[0]\n",
    "    return 0\n",
    "\n",
    "def transpose(data):\n",
    "    return list(map(list, zip(*data)))\n",
    "\n",
    "def check_for_win(board):\n",
    "    n = len(board)\n",
    "\n",
    "    row_win = test_won_rows(board)\n",
    "    if row_win:\n",
    "        return row_win\n",
    "\n",
    "    column_win = test_won_rows(transpose(board))\n",
    "    if column_win:\n",
    "        return column_win\n",
    "\n",
    "    diagonal_1 = [board[i][i] for i in range(n)]\n",
    "    diagonal_2 = [board[i][n - 1 - i] for i in range(n)]\n",
    "    \n",
    "    if all_same(diagonal_1):\n",
    "        return diagonal_1[0]\n",
    "    if all_same(diagonal_2):\n",
    "        return diagonal_2[0]\n",
    "\n",
    "    if any(0 in row for row in board):\n",
    "        return -1\n",
    "    \n",
    "    return 0\n",
    "\n",
    "def convert_label_to_index(label):\n",
    "    row_map = dict(zip(row_names, range(size)))\n",
    "    column_map = dict(zip(column_names, range(size)))\n",
    "\n",
    "    column_label = label[0].upper()\n",
    "    row_label = label[1:]\n",
    "    \n",
    "    if column_label not in row_map or row_label not in column_map:\n",
    "        raise ValueError(\"Invalid coordinate label.\")\n",
    "    \n",
    "    column_index = row_map[column_label]\n",
    "    row_index = column_map[row_label]\n",
    "    \n",
    "    return row_index, column_index\n",
    "\n",
    "def add_piece(board, player_number, x, y):\n",
    "    empty = 0\n",
    "    \n",
    "    if not (0 <= x < len(board)) or not (0 <= y < len(board[0])):\n",
    "        return False\n",
    "\n",
    "    if board[x][y] != empty:\n",
    "        return False\n",
    "\n",
    "    board[x][y] = player_number\n",
    "    return True\n",
    "\n",
    "def place_mark(board, player_number, coordinates):\n",
    "    row, column = coordinates\n",
    "    return add_piece(board, player_number, row, column)\n",
    "\n",
    "def play_turn(board, player_number):\n",
    "    while True:\n",
    "        try:\n",
    "            user_input = input(f\"Player {player_number}, enter your move (e.g., A1, B2): \").strip().upper()\n",
    "            row, column = convert_label_to_index(user_input)\n",
    "            if place_mark(board, player_number, (row, column)):\n",
    "                print(\"Move accepted.\")\n",
    "                return\n",
    "            else:\n",
    "                print(\"Move invalid or cell already occupied. Please try again.\")\n",
    "        \n",
    "        except ValueError as e:\n",
    "            print(f\"Error: {e}. Please enter a valid coordinate.\")\n",
    "        except IndexError:\n",
    "            print(\"Error: Coordinate out of range. Please enter a valid coordinate.\")\n",
    "\n",
    "def start_game():\n",
    "    board = create_board(size)\n",
    "    \n",
    "    player_number = 1\n",
    "\n",
    "    while True:\n",
    "        draw_board(board)\n",
    "        \n",
    "        play_turn(board, player_number)\n",
    "        \n",
    "        result = check_for_win(board)\n",
    "        \n",
    "        if result == 1:\n",
    "            draw_board(board)\n",
    "            print(\"Player 1 (X) wins!\")\n",
    "            break\n",
    "        elif result == 2:\n",
    "            draw_board(board)\n",
    "            print(\"Player 2 (O) wins!\")\n",
    "            break\n",
    "        elif result == 0:\n",
    "            draw_board(board)\n",
    "            print(\"The game is a draw!\")\n",
    "            break\n",
    "\n",
    "        player_number = 2 if player_number == 1 else 1\n",
    "\n",
    "if __name__ == \"__main__\":\n",
    "    start_game()\n"
   ]
  },
  {
   "cell_type": "code",
   "execution_count": 1,
   "metadata": {},
   "outputs": [],
   "source": [
    "# Test your solution here"
   ]
  },
  {
   "cell_type": "markdown",
   "metadata": {},
   "source": [
    "*Exercise 10:* Test that your game works for 5x5 Tic Tac Toe.  "
   ]
  },
  {
   "cell_type": "code",
   "execution_count": null,
   "metadata": {},
   "outputs": [
    {
     "name": "stdin",
     "output_type": "stream",
     "text": [
      "Please enter the size of the board (e.g., 5 for a 5x5 board):  5\n"
     ]
    },
    {
     "name": "stdout",
     "output_type": "stream",
     "text": [
      "   A   B   C   D   E  \n",
      " ------------------\n",
      " 1     |   |   |   |   |\n",
      " ------------------\n",
      " 2     |   |   |   |   |\n",
      " ------------------\n",
      " 3     |   |   |   |   |\n",
      " ------------------\n",
      " 4     |   |   |   |   |\n",
      " ------------------\n",
      " 5     |   |   |   |   |\n",
      " ------------------\n"
     ]
    }
   ],
   "source": [
    "def create_board(n):\n",
    "    return [[0] * n for _ in range(n)]\n",
    "\n",
    "def draw_board(board):\n",
    "    def print_horizontal_line():\n",
    "        print(\" \" + \"---\" * size + \"---\")\n",
    "    \n",
    "    print(\" \", end=\" \")\n",
    "    for j in range(size):\n",
    "        print(f\" {column_names[j]} \", end=\" \")\n",
    "    print()\n",
    "    \n",
    "    print_horizontal_line()\n",
    "    \n",
    "    for i in range(size):\n",
    "        print(f\" {row_names[i]} \", end=\" \")\n",
    "        for j in range(size):\n",
    "            print(f\" {dictionary[board[i][j]]} \", end=\"|\")\n",
    "        print()\n",
    "        print_horizontal_line()\n",
    "\n",
    "def all_same(l):\n",
    "    val = l[0]\n",
    "    return all(item == val for item in l) and val != 0\n",
    "\n",
    "def test_won_rows(data):\n",
    "    for row in data:\n",
    "        if all_same(row):\n",
    "            return row[0]\n",
    "    return 0\n",
    "\n",
    "def transpose(data):\n",
    "    return list(map(list, zip(*data)))\n",
    "\n",
    "def check_for_win(board):\n",
    "    n = len(board)\n",
    "\n",
    "    row_win = test_won_rows(board)\n",
    "    if row_win:\n",
    "        return row_win\n",
    "\n",
    "    column_win = test_won_rows(transpose(board))\n",
    "    if column_win:\n",
    "        return column_win\n",
    "\n",
    "    diagonal_1 = [board[i][i] for i in range(n)]\n",
    "    diagonal_2 = [board[i][n - 1 - i] for i in range(n)]\n",
    "    \n",
    "    if all_same(diagonal_1):\n",
    "        return diagonal_1[0]\n",
    "    if all_same(diagonal_2):\n",
    "        return diagonal_2[0]\n",
    "\n",
    "    if any(0 in row for row in board):\n",
    "        return -1\n",
    "    \n",
    "    return 0\n",
    "\n",
    "def convert_label_to_index(label):\n",
    "    column_label = label[0].upper() \n",
    "    row_label = label[1:]          \n",
    "    \n",
    "    if column_label not in column_map or row_label not in row_map:\n",
    "        raise ValueError(\"Invalid coordinate label.\")\n",
    "    \n",
    "    column_index = column_map[column_label]\n",
    "    row_index = row_map[row_label]\n",
    "    \n",
    "    return row_index, column_index\n",
    "\n",
    "def add_piece(board, player_number, x, y):\n",
    "    empty = 0\n",
    "    \n",
    "    if not (0 <= x < len(board)) or not (0 <= y < len(board[0])):\n",
    "        return False\n",
    "\n",
    "    if board[x][y] != empty:\n",
    "        return False\n",
    "\n",
    "    board[x][y] = player_number\n",
    "    return True\n",
    "\n",
    "def place_mark(board, player_number, coordinates):\n",
    "    row, column = coordinates\n",
    "    return add_piece(board, player_number, row, column)\n",
    "\n",
    "def play_turn(board, player_number):\n",
    "    while True:\n",
    "        try:\n",
    "            user_input = input(f\"Player {player_number}, enter your move (e.g., A1, B2): \").strip().upper()\n",
    "            row, column = convert_label_to_index(user_input)\n",
    "            if place_mark(board, player_number, (row, column)):\n",
    "                print(\"Move accepted.\")\n",
    "                return\n",
    "            else:\n",
    "                print(\"Move invalid or cell already occupied. Please try again.\")\n",
    "        \n",
    "        except ValueError as e:\n",
    "            print(f\"Error: {e}. Please enter a valid coordinate.\")\n",
    "        except IndexError:\n",
    "            print(\"Error: Coordinate out of range. Please enter a valid coordinate.\")\n",
    "\n",
    "def start_game(size):\n",
    "    global row_names, column_names, row_map, column_map, dictionary\n",
    "\n",
    "    row_names = list(map(str, range(1, size + 1)))\n",
    "    column_names = list(\"ABCDEFGHIJKLMNOPQRSTUVWXYZ\")[:size]\n",
    "    row_map = dict(zip(row_names, range(size)))\n",
    "    column_map = dict(zip(column_names, range(size)))\n",
    "    dictionary = {0: \" \", 1: \"X\", 2: \"O\"}\n",
    "    \n",
    "    board = create_board(size)\n",
    "    player_number = 1\n",
    "    \n",
    "    while True:\n",
    "        draw_board(board)\n",
    "        play_turn(board, player_number)\n",
    "        result = check_for_win(board)\n",
    "        \n",
    "        if result == 1:\n",
    "            draw_board(board)\n",
    "            print(\"Player 1 (X) wins!\")\n",
    "            break\n",
    "        elif result == 2:\n",
    "            draw_board(board)\n",
    "            print(\"Player 2 (O) wins!\")\n",
    "            break\n",
    "        elif result == 0:\n",
    "            draw_board(board)\n",
    "            print(\"The game is a draw!\")\n",
    "            break\n",
    "\n",
    "        player_number = 2 if player_number == 1 else 1\n",
    "\n",
    "if __name__ == \"__main__\":\n",
    "    size = int(input(\"Please enter the size of the board (e.g., 5 for a 5x5 board): \"))\n",
    "    start_game(size)\n"
   ]
  },
  {
   "cell_type": "markdown",
   "metadata": {},
   "source": [
    "*Exercise 11:* (Advanced / Challenge) Develop a version of the game where one player is the computer. Note that you don't need to do an extensive seach for the best move. You can have the computer simply protect against loosing and otherwise try to win with straight or diagonal patterns."
   ]
  },
  {
   "cell_type": "code",
   "execution_count": null,
   "metadata": {
    "collapsed": true,
    "jupyter": {
     "outputs_hidden": true
    }
   },
   "outputs": [],
   "source": [
    "# Write you solution here"
   ]
  },
  {
   "cell_type": "code",
   "execution_count": null,
   "metadata": {
    "collapsed": true,
    "jupyter": {
     "outputs_hidden": true
    }
   },
   "outputs": [],
   "source": [
    "# Test your solution here"
   ]
  }
 ],
 "metadata": {
  "kernelspec": {
   "display_name": "Python 3 (ipykernel)",
   "language": "python",
   "name": "python3"
  },
  "language_info": {
   "codemirror_mode": {
    "name": "ipython",
    "version": 3
   },
   "file_extension": ".py",
   "mimetype": "text/x-python",
   "name": "python",
   "nbconvert_exporter": "python",
   "pygments_lexer": "ipython3",
   "version": "3.9.6"
  }
 },
 "nbformat": 4,
 "nbformat_minor": 4
}
